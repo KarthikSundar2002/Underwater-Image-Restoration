{
 "cells": [
  {
   "cell_type": "raw",
   "id": "f633fc7ada03594b",
   "metadata": {},
   "source": []
  },
  {
   "cell_type": "code",
   "execution_count": null,
   "id": "initial_id",
   "metadata": {
    "collapsed": true
   },
   "outputs": [],
   "source": [
    "from src.Models.SpectralTransformer import SpectralTransformer\n",
    "import numpy as np\n",
    "from skimage.metrics import peak_signal_noise_ratio as psnr\n",
    "from skimage.metrics import structural_similarity as ssim\n",
    "import torch\n",
    "\n",
    "\n",
    "_, test_loader = get_dataloaders(self.rawDataDirectory, self.remasteredDataDirectory, args.test_batch_size)\n",
    "\n",
    "model = SpectralTransformer().to(device)\n",
    "checkpoint = torch.load(model_path, map_location=device)\n",
    "model.load_state_dict(checkpoint['model_state_dict'])\n",
    "model.eval()\n",
    "\n",
    "psnr_values = []\n",
    "ssim_values = []\n",
    "\n",
    "results_dir = 'evaluation_results'\n",
    "os.makedirs(results_dir, exist_ok=True)\n",
    "\n",
    "with torch.no_grad():\n",
    "    for i, (raw_img, ref_img) in enumerate(test_loader):\n",
    "        raw_img = raw_img.to(device)\n",
    "        ref_img = ref_img.to(device)\n",
    "\n",
    "        enhanced_img = model(raw_img)\n",
    "\n",
    "        enhanced_np = enhanced_img.cpu().squeeze().permute(1, 2, 0).numpy()\n",
    "        enhanced_np = np.clip(enhanced_np, 0, 1)  # Clip values to [0, 1]\n",
    "\n",
    "        ref_np = ref_img.cpu().squeeze().permute(1, 2, 0).numpy()\n",
    "        raw_np = raw_img.cpu().squeeze().permute(1, 2, 0).numpy()\n",
    "\n",
    "        curr_psnr = psnr(ref_np, enhanced_np)\n",
    "        curr_ssim = ssim(ref_np, enhanced_np, multichannel=True)\n",
    "        psnr_values.append(curr_psnr)\n",
    "        ssim_values.append(curr_ssim)\n",
    "\n",
    "        # Print progress\n",
    "        if (i + 1) % 20 == 0:\n",
    "            print(f\"Processed {i + 1}/{len(test_loader)} test images\")\n",
    "\n",
    "avg_psnr = np.mean(psnr_values)\n",
    "avg_ssim = np.mean(ssim_values)\n",
    "\n",
    "print(f\"Evaluation Results:\")\n",
    "print(f\"Average PSNR: {avg_psnr:.2f} dB\")\n",
    "print(f\"Average SSIM: {avg_ssim:.4f}\")\n",
    "\n",
    "with open(f'{results_dir}/metrics.txt', 'w') as f:\n",
    "    f.write(f\"Average PSNR: {avg_psnr:.2f} dB\\n\")\n",
    "    f.write(f\"Average SSIM: {avg_ssim:.4f}\\n\")"
   ]
  },
  {
   "cell_type": "code",
   "execution_count": null,
   "id": "0d56700d",
   "metadata": {},
   "outputs": [],
   "source": [
    "from src.Models.SpectralTransformer import SpectralTransformer\n",
    "\n",
    "model = SpectralTransformer()\n",
    "\n"
   ]
  }
 ],
 "metadata": {
  "kernelspec": {
   "display_name": "Python 3",
   "language": "python",
   "name": "python3"
  },
  "language_info": {
   "codemirror_mode": {
    "name": "ipython",
    "version": 2
   },
   "file_extension": ".py",
   "mimetype": "text/x-python",
   "name": "python",
   "nbconvert_exporter": "python",
   "pygments_lexer": "ipython2",
   "version": "2.7.6"
  }
 },
 "nbformat": 4,
 "nbformat_minor": 5
}
