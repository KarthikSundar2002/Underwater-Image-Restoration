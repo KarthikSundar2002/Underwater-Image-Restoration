{
 "cells": [
  {
   "cell_type": "code",
   "id": "initial_id",
   "metadata": {
    "collapsed": true,
    "ExecuteTime": {
     "end_time": "2025-03-08T12:25:45.475779Z",
     "start_time": "2025-03-08T12:25:41.383761Z"
    }
   },
   "source": [
    "!pip install kaggle\n",
    "!pip install kagglehub\n",
    "!pip install ipywidgets\n",
    "!pip install opencv-python\n",
    "!pip install -U scikit-image\n",
    "!pip install torch\n",
    "!pip install torchvision"
   ],
   "outputs": [
    {
     "name": "stdout",
     "output_type": "stream",
     "text": [
      "Requirement already satisfied: kaggle in /Users/XanderWork/PycharmProjects/Underwater-Image-Restoration/.venv/lib/python3.10/site-packages (1.6.17)\r\n",
      "Requirement already satisfied: six>=1.10 in /Users/XanderWork/PycharmProjects/Underwater-Image-Restoration/.venv/lib/python3.10/site-packages (from kaggle) (1.17.0)\r\n",
      "Requirement already satisfied: certifi>=2023.7.22 in /Users/XanderWork/PycharmProjects/Underwater-Image-Restoration/.venv/lib/python3.10/site-packages (from kaggle) (2025.1.31)\r\n",
      "Requirement already satisfied: python-dateutil in /Users/XanderWork/PycharmProjects/Underwater-Image-Restoration/.venv/lib/python3.10/site-packages (from kaggle) (2.9.0.post0)\r\n",
      "Requirement already satisfied: requests in /Users/XanderWork/PycharmProjects/Underwater-Image-Restoration/.venv/lib/python3.10/site-packages (from kaggle) (2.32.3)\r\n",
      "Requirement already satisfied: tqdm in /Users/XanderWork/PycharmProjects/Underwater-Image-Restoration/.venv/lib/python3.10/site-packages (from kaggle) (4.67.1)\r\n",
      "Requirement already satisfied: python-slugify in /Users/XanderWork/PycharmProjects/Underwater-Image-Restoration/.venv/lib/python3.10/site-packages (from kaggle) (8.0.4)\r\n",
      "Requirement already satisfied: urllib3 in /Users/XanderWork/PycharmProjects/Underwater-Image-Restoration/.venv/lib/python3.10/site-packages (from kaggle) (2.3.0)\r\n",
      "Requirement already satisfied: bleach in /Users/XanderWork/PycharmProjects/Underwater-Image-Restoration/.venv/lib/python3.10/site-packages (from kaggle) (6.2.0)\r\n",
      "Requirement already satisfied: webencodings in /Users/XanderWork/PycharmProjects/Underwater-Image-Restoration/.venv/lib/python3.10/site-packages (from bleach->kaggle) (0.5.1)\r\n",
      "Requirement already satisfied: text-unidecode>=1.3 in /Users/XanderWork/PycharmProjects/Underwater-Image-Restoration/.venv/lib/python3.10/site-packages (from python-slugify->kaggle) (1.3)\r\n",
      "Requirement already satisfied: charset-normalizer<4,>=2 in /Users/XanderWork/PycharmProjects/Underwater-Image-Restoration/.venv/lib/python3.10/site-packages (from requests->kaggle) (3.4.1)\r\n",
      "Requirement already satisfied: idna<4,>=2.5 in /Users/XanderWork/PycharmProjects/Underwater-Image-Restoration/.venv/lib/python3.10/site-packages (from requests->kaggle) (3.10)\r\n",
      "Requirement already satisfied: kagglehub in /Users/XanderWork/PycharmProjects/Underwater-Image-Restoration/.venv/lib/python3.10/site-packages (0.3.10)\r\n",
      "Requirement already satisfied: packaging in /Users/XanderWork/PycharmProjects/Underwater-Image-Restoration/.venv/lib/python3.10/site-packages (from kagglehub) (24.2)\r\n",
      "Requirement already satisfied: pyyaml in /Users/XanderWork/PycharmProjects/Underwater-Image-Restoration/.venv/lib/python3.10/site-packages (from kagglehub) (6.0.2)\r\n",
      "Requirement already satisfied: requests in /Users/XanderWork/PycharmProjects/Underwater-Image-Restoration/.venv/lib/python3.10/site-packages (from kagglehub) (2.32.3)\r\n",
      "Requirement already satisfied: tqdm in /Users/XanderWork/PycharmProjects/Underwater-Image-Restoration/.venv/lib/python3.10/site-packages (from kagglehub) (4.67.1)\r\n",
      "Requirement already satisfied: charset-normalizer<4,>=2 in /Users/XanderWork/PycharmProjects/Underwater-Image-Restoration/.venv/lib/python3.10/site-packages (from requests->kagglehub) (3.4.1)\r\n",
      "Requirement already satisfied: idna<4,>=2.5 in /Users/XanderWork/PycharmProjects/Underwater-Image-Restoration/.venv/lib/python3.10/site-packages (from requests->kagglehub) (3.10)\r\n",
      "Requirement already satisfied: urllib3<3,>=1.21.1 in /Users/XanderWork/PycharmProjects/Underwater-Image-Restoration/.venv/lib/python3.10/site-packages (from requests->kagglehub) (2.3.0)\r\n",
      "Requirement already satisfied: certifi>=2017.4.17 in /Users/XanderWork/PycharmProjects/Underwater-Image-Restoration/.venv/lib/python3.10/site-packages (from requests->kagglehub) (2025.1.31)\r\n",
      "Requirement already satisfied: ipywidgets in /Users/XanderWork/PycharmProjects/Underwater-Image-Restoration/.venv/lib/python3.10/site-packages (8.1.5)\r\n",
      "Requirement already satisfied: comm>=0.1.3 in /Users/XanderWork/PycharmProjects/Underwater-Image-Restoration/.venv/lib/python3.10/site-packages (from ipywidgets) (0.2.2)\r\n",
      "Requirement already satisfied: ipython>=6.1.0 in /Users/XanderWork/PycharmProjects/Underwater-Image-Restoration/.venv/lib/python3.10/site-packages (from ipywidgets) (8.33.0)\r\n",
      "Requirement already satisfied: traitlets>=4.3.1 in /Users/XanderWork/PycharmProjects/Underwater-Image-Restoration/.venv/lib/python3.10/site-packages (from ipywidgets) (5.14.3)\r\n",
      "Requirement already satisfied: widgetsnbextension~=4.0.12 in /Users/XanderWork/PycharmProjects/Underwater-Image-Restoration/.venv/lib/python3.10/site-packages (from ipywidgets) (4.0.13)\r\n",
      "Requirement already satisfied: jupyterlab-widgets~=3.0.12 in /Users/XanderWork/PycharmProjects/Underwater-Image-Restoration/.venv/lib/python3.10/site-packages (from ipywidgets) (3.0.13)\r\n",
      "Requirement already satisfied: decorator in /Users/XanderWork/PycharmProjects/Underwater-Image-Restoration/.venv/lib/python3.10/site-packages (from ipython>=6.1.0->ipywidgets) (5.2.1)\r\n",
      "Requirement already satisfied: exceptiongroup in /Users/XanderWork/PycharmProjects/Underwater-Image-Restoration/.venv/lib/python3.10/site-packages (from ipython>=6.1.0->ipywidgets) (1.2.2)\r\n",
      "Requirement already satisfied: jedi>=0.16 in /Users/XanderWork/PycharmProjects/Underwater-Image-Restoration/.venv/lib/python3.10/site-packages (from ipython>=6.1.0->ipywidgets) (0.19.2)\r\n",
      "Requirement already satisfied: matplotlib-inline in /Users/XanderWork/PycharmProjects/Underwater-Image-Restoration/.venv/lib/python3.10/site-packages (from ipython>=6.1.0->ipywidgets) (0.1.7)\r\n",
      "Requirement already satisfied: pexpect>4.3 in /Users/XanderWork/PycharmProjects/Underwater-Image-Restoration/.venv/lib/python3.10/site-packages (from ipython>=6.1.0->ipywidgets) (4.9.0)\r\n",
      "Requirement already satisfied: prompt_toolkit<3.1.0,>=3.0.41 in /Users/XanderWork/PycharmProjects/Underwater-Image-Restoration/.venv/lib/python3.10/site-packages (from ipython>=6.1.0->ipywidgets) (3.0.50)\r\n",
      "Requirement already satisfied: pygments>=2.4.0 in /Users/XanderWork/PycharmProjects/Underwater-Image-Restoration/.venv/lib/python3.10/site-packages (from ipython>=6.1.0->ipywidgets) (2.19.1)\r\n",
      "Requirement already satisfied: stack_data in /Users/XanderWork/PycharmProjects/Underwater-Image-Restoration/.venv/lib/python3.10/site-packages (from ipython>=6.1.0->ipywidgets) (0.6.3)\r\n",
      "Requirement already satisfied: typing_extensions>=4.6 in /Users/XanderWork/PycharmProjects/Underwater-Image-Restoration/.venv/lib/python3.10/site-packages (from ipython>=6.1.0->ipywidgets) (4.12.2)\r\n",
      "Requirement already satisfied: parso<0.9.0,>=0.8.4 in /Users/XanderWork/PycharmProjects/Underwater-Image-Restoration/.venv/lib/python3.10/site-packages (from jedi>=0.16->ipython>=6.1.0->ipywidgets) (0.8.4)\r\n",
      "Requirement already satisfied: ptyprocess>=0.5 in /Users/XanderWork/PycharmProjects/Underwater-Image-Restoration/.venv/lib/python3.10/site-packages (from pexpect>4.3->ipython>=6.1.0->ipywidgets) (0.7.0)\r\n",
      "Requirement already satisfied: wcwidth in /Users/XanderWork/PycharmProjects/Underwater-Image-Restoration/.venv/lib/python3.10/site-packages (from prompt_toolkit<3.1.0,>=3.0.41->ipython>=6.1.0->ipywidgets) (0.2.13)\r\n",
      "Requirement already satisfied: executing>=1.2.0 in /Users/XanderWork/PycharmProjects/Underwater-Image-Restoration/.venv/lib/python3.10/site-packages (from stack_data->ipython>=6.1.0->ipywidgets) (2.2.0)\r\n",
      "Requirement already satisfied: asttokens>=2.1.0 in /Users/XanderWork/PycharmProjects/Underwater-Image-Restoration/.venv/lib/python3.10/site-packages (from stack_data->ipython>=6.1.0->ipywidgets) (3.0.0)\r\n",
      "Requirement already satisfied: pure-eval in /Users/XanderWork/PycharmProjects/Underwater-Image-Restoration/.venv/lib/python3.10/site-packages (from stack_data->ipython>=6.1.0->ipywidgets) (0.2.3)\r\n",
      "Requirement already satisfied: opencv-python in /Users/XanderWork/PycharmProjects/Underwater-Image-Restoration/.venv/lib/python3.10/site-packages (4.11.0.86)\r\n",
      "Requirement already satisfied: numpy>=1.21.2 in /Users/XanderWork/PycharmProjects/Underwater-Image-Restoration/.venv/lib/python3.10/site-packages (from opencv-python) (2.2.3)\r\n",
      "Requirement already satisfied: scikit-image in /Users/XanderWork/PycharmProjects/Underwater-Image-Restoration/.venv/lib/python3.10/site-packages (0.25.2)\r\n",
      "Requirement already satisfied: numpy>=1.24 in /Users/XanderWork/PycharmProjects/Underwater-Image-Restoration/.venv/lib/python3.10/site-packages (from scikit-image) (2.2.3)\r\n",
      "Requirement already satisfied: scipy>=1.11.4 in /Users/XanderWork/PycharmProjects/Underwater-Image-Restoration/.venv/lib/python3.10/site-packages (from scikit-image) (1.15.2)\r\n",
      "Requirement already satisfied: networkx>=3.0 in /Users/XanderWork/PycharmProjects/Underwater-Image-Restoration/.venv/lib/python3.10/site-packages (from scikit-image) (3.4.2)\r\n",
      "Requirement already satisfied: pillow>=10.1 in /Users/XanderWork/PycharmProjects/Underwater-Image-Restoration/.venv/lib/python3.10/site-packages (from scikit-image) (11.1.0)\r\n",
      "Requirement already satisfied: imageio!=2.35.0,>=2.33 in /Users/XanderWork/PycharmProjects/Underwater-Image-Restoration/.venv/lib/python3.10/site-packages (from scikit-image) (2.37.0)\r\n",
      "Requirement already satisfied: tifffile>=2022.8.12 in /Users/XanderWork/PycharmProjects/Underwater-Image-Restoration/.venv/lib/python3.10/site-packages (from scikit-image) (2025.2.18)\r\n",
      "Requirement already satisfied: packaging>=21 in /Users/XanderWork/PycharmProjects/Underwater-Image-Restoration/.venv/lib/python3.10/site-packages (from scikit-image) (24.2)\r\n",
      "Requirement already satisfied: lazy-loader>=0.4 in /Users/XanderWork/PycharmProjects/Underwater-Image-Restoration/.venv/lib/python3.10/site-packages (from scikit-image) (0.4)\r\n",
      "Requirement already satisfied: torch in /Users/XanderWork/PycharmProjects/Underwater-Image-Restoration/.venv/lib/python3.10/site-packages (2.6.0)\r\n",
      "Requirement already satisfied: filelock in /Users/XanderWork/PycharmProjects/Underwater-Image-Restoration/.venv/lib/python3.10/site-packages (from torch) (3.17.0)\r\n",
      "Requirement already satisfied: typing-extensions>=4.10.0 in /Users/XanderWork/PycharmProjects/Underwater-Image-Restoration/.venv/lib/python3.10/site-packages (from torch) (4.12.2)\r\n",
      "Requirement already satisfied: networkx in /Users/XanderWork/PycharmProjects/Underwater-Image-Restoration/.venv/lib/python3.10/site-packages (from torch) (3.4.2)\r\n",
      "Requirement already satisfied: jinja2 in /Users/XanderWork/PycharmProjects/Underwater-Image-Restoration/.venv/lib/python3.10/site-packages (from torch) (3.1.5)\r\n",
      "Requirement already satisfied: fsspec in /Users/XanderWork/PycharmProjects/Underwater-Image-Restoration/.venv/lib/python3.10/site-packages (from torch) (2025.2.0)\r\n",
      "Requirement already satisfied: sympy==1.13.1 in /Users/XanderWork/PycharmProjects/Underwater-Image-Restoration/.venv/lib/python3.10/site-packages (from torch) (1.13.1)\r\n",
      "Requirement already satisfied: mpmath<1.4,>=1.1.0 in /Users/XanderWork/PycharmProjects/Underwater-Image-Restoration/.venv/lib/python3.10/site-packages (from sympy==1.13.1->torch) (1.3.0)\r\n",
      "Requirement already satisfied: MarkupSafe>=2.0 in /Users/XanderWork/PycharmProjects/Underwater-Image-Restoration/.venv/lib/python3.10/site-packages (from jinja2->torch) (3.0.2)\r\n",
      "Requirement already satisfied: torchvision in /Users/XanderWork/PycharmProjects/Underwater-Image-Restoration/.venv/lib/python3.10/site-packages (0.21.0)\r\n",
      "Requirement already satisfied: numpy in /Users/XanderWork/PycharmProjects/Underwater-Image-Restoration/.venv/lib/python3.10/site-packages (from torchvision) (2.2.3)\r\n",
      "Requirement already satisfied: torch==2.6.0 in /Users/XanderWork/PycharmProjects/Underwater-Image-Restoration/.venv/lib/python3.10/site-packages (from torchvision) (2.6.0)\r\n",
      "Requirement already satisfied: pillow!=8.3.*,>=5.3.0 in /Users/XanderWork/PycharmProjects/Underwater-Image-Restoration/.venv/lib/python3.10/site-packages (from torchvision) (11.1.0)\r\n",
      "Requirement already satisfied: filelock in /Users/XanderWork/PycharmProjects/Underwater-Image-Restoration/.venv/lib/python3.10/site-packages (from torch==2.6.0->torchvision) (3.17.0)\r\n",
      "Requirement already satisfied: typing-extensions>=4.10.0 in /Users/XanderWork/PycharmProjects/Underwater-Image-Restoration/.venv/lib/python3.10/site-packages (from torch==2.6.0->torchvision) (4.12.2)\r\n",
      "Requirement already satisfied: networkx in /Users/XanderWork/PycharmProjects/Underwater-Image-Restoration/.venv/lib/python3.10/site-packages (from torch==2.6.0->torchvision) (3.4.2)\r\n",
      "Requirement already satisfied: jinja2 in /Users/XanderWork/PycharmProjects/Underwater-Image-Restoration/.venv/lib/python3.10/site-packages (from torch==2.6.0->torchvision) (3.1.5)\r\n",
      "Requirement already satisfied: fsspec in /Users/XanderWork/PycharmProjects/Underwater-Image-Restoration/.venv/lib/python3.10/site-packages (from torch==2.6.0->torchvision) (2025.2.0)\r\n",
      "Requirement already satisfied: sympy==1.13.1 in /Users/XanderWork/PycharmProjects/Underwater-Image-Restoration/.venv/lib/python3.10/site-packages (from torch==2.6.0->torchvision) (1.13.1)\r\n",
      "Requirement already satisfied: mpmath<1.4,>=1.1.0 in /Users/XanderWork/PycharmProjects/Underwater-Image-Restoration/.venv/lib/python3.10/site-packages (from sympy==1.13.1->torch==2.6.0->torchvision) (1.3.0)\r\n",
      "Requirement already satisfied: MarkupSafe>=2.0 in /Users/XanderWork/PycharmProjects/Underwater-Image-Restoration/.venv/lib/python3.10/site-packages (from jinja2->torch==2.6.0->torchvision) (3.0.2)\r\n"
     ]
    }
   ],
   "execution_count": 1
  }
 ],
 "metadata": {
  "kernelspec": {
   "display_name": "Python 3",
   "language": "python",
   "name": "python3"
  },
  "language_info": {
   "codemirror_mode": {
    "name": "ipython",
    "version": 2
   },
   "file_extension": ".py",
   "mimetype": "text/x-python",
   "name": "python",
   "nbconvert_exporter": "python",
   "pygments_lexer": "ipython2",
   "version": "2.7.6"
  }
 },
 "nbformat": 4,
 "nbformat_minor": 5
}
