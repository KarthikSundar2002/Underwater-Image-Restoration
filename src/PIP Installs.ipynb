{
 "cells": [
  {
   "cell_type": "code",
   "id": "initial_id",
   "metadata": {
    "collapsed": true,
    "ExecuteTime": {
     "end_time": "2025-03-05T18:48:07.577826Z",
     "start_time": "2025-03-05T18:48:04.387835Z"
    }
   },
   "source": [
    "!pip install kaggle\n",
    "!pip install kagglehub\n",
    "!pip install ipywidgets"
   ],
   "outputs": [
    {
     "name": "stdout",
     "output_type": "stream",
     "text": [
      "Requirement already satisfied: kaggle in /Users/sean/PycharmProjects/Underwater-Image-Restoration/.venv/lib/python3.12/site-packages (1.6.17)\r\n",
      "Requirement already satisfied: six>=1.10 in /Users/sean/PycharmProjects/Underwater-Image-Restoration/.venv/lib/python3.12/site-packages (from kaggle) (1.17.0)\r\n",
      "Requirement already satisfied: certifi>=2023.7.22 in /Users/sean/PycharmProjects/Underwater-Image-Restoration/.venv/lib/python3.12/site-packages (from kaggle) (2025.1.31)\r\n",
      "Requirement already satisfied: python-dateutil in /Users/sean/PycharmProjects/Underwater-Image-Restoration/.venv/lib/python3.12/site-packages (from kaggle) (2.9.0.post0)\r\n",
      "Requirement already satisfied: requests in /Users/sean/PycharmProjects/Underwater-Image-Restoration/.venv/lib/python3.12/site-packages (from kaggle) (2.32.3)\r\n",
      "Requirement already satisfied: tqdm in /Users/sean/PycharmProjects/Underwater-Image-Restoration/.venv/lib/python3.12/site-packages (from kaggle) (4.67.1)\r\n",
      "Requirement already satisfied: python-slugify in /Users/sean/PycharmProjects/Underwater-Image-Restoration/.venv/lib/python3.12/site-packages (from kaggle) (8.0.4)\r\n",
      "Requirement already satisfied: urllib3 in /Users/sean/PycharmProjects/Underwater-Image-Restoration/.venv/lib/python3.12/site-packages (from kaggle) (2.3.0)\r\n",
      "Requirement already satisfied: bleach in /Users/sean/PycharmProjects/Underwater-Image-Restoration/.venv/lib/python3.12/site-packages (from kaggle) (6.2.0)\r\n",
      "Requirement already satisfied: webencodings in /Users/sean/PycharmProjects/Underwater-Image-Restoration/.venv/lib/python3.12/site-packages (from bleach->kaggle) (0.5.1)\r\n",
      "Requirement already satisfied: text-unidecode>=1.3 in /Users/sean/PycharmProjects/Underwater-Image-Restoration/.venv/lib/python3.12/site-packages (from python-slugify->kaggle) (1.3)\r\n",
      "Requirement already satisfied: charset-normalizer<4,>=2 in /Users/sean/PycharmProjects/Underwater-Image-Restoration/.venv/lib/python3.12/site-packages (from requests->kaggle) (3.4.1)\r\n",
      "Requirement already satisfied: idna<4,>=2.5 in /Users/sean/PycharmProjects/Underwater-Image-Restoration/.venv/lib/python3.12/site-packages (from requests->kaggle) (3.10)\r\n",
      "\r\n",
      "\u001B[1m[\u001B[0m\u001B[34;49mnotice\u001B[0m\u001B[1;39;49m]\u001B[0m\u001B[39;49m A new release of pip is available: \u001B[0m\u001B[31;49m23.2.1\u001B[0m\u001B[39;49m -> \u001B[0m\u001B[32;49m25.0.1\u001B[0m\r\n",
      "\u001B[1m[\u001B[0m\u001B[34;49mnotice\u001B[0m\u001B[1;39;49m]\u001B[0m\u001B[39;49m To update, run: \u001B[0m\u001B[32;49mpip install --upgrade pip\u001B[0m\r\n",
      "Requirement already satisfied: kagglehub in /Users/sean/PycharmProjects/Underwater-Image-Restoration/.venv/lib/python3.12/site-packages (0.3.10)\r\n",
      "Requirement already satisfied: packaging in /Users/sean/PycharmProjects/Underwater-Image-Restoration/.venv/lib/python3.12/site-packages (from kagglehub) (24.2)\r\n",
      "Requirement already satisfied: pyyaml in /Users/sean/PycharmProjects/Underwater-Image-Restoration/.venv/lib/python3.12/site-packages (from kagglehub) (6.0.2)\r\n",
      "Requirement already satisfied: requests in /Users/sean/PycharmProjects/Underwater-Image-Restoration/.venv/lib/python3.12/site-packages (from kagglehub) (2.32.3)\r\n",
      "Requirement already satisfied: tqdm in /Users/sean/PycharmProjects/Underwater-Image-Restoration/.venv/lib/python3.12/site-packages (from kagglehub) (4.67.1)\r\n",
      "Requirement already satisfied: charset-normalizer<4,>=2 in /Users/sean/PycharmProjects/Underwater-Image-Restoration/.venv/lib/python3.12/site-packages (from requests->kagglehub) (3.4.1)\r\n",
      "Requirement already satisfied: idna<4,>=2.5 in /Users/sean/PycharmProjects/Underwater-Image-Restoration/.venv/lib/python3.12/site-packages (from requests->kagglehub) (3.10)\r\n",
      "Requirement already satisfied: urllib3<3,>=1.21.1 in /Users/sean/PycharmProjects/Underwater-Image-Restoration/.venv/lib/python3.12/site-packages (from requests->kagglehub) (2.3.0)\r\n",
      "Requirement already satisfied: certifi>=2017.4.17 in /Users/sean/PycharmProjects/Underwater-Image-Restoration/.venv/lib/python3.12/site-packages (from requests->kagglehub) (2025.1.31)\r\n",
      "\r\n",
      "\u001B[1m[\u001B[0m\u001B[34;49mnotice\u001B[0m\u001B[1;39;49m]\u001B[0m\u001B[39;49m A new release of pip is available: \u001B[0m\u001B[31;49m23.2.1\u001B[0m\u001B[39;49m -> \u001B[0m\u001B[32;49m25.0.1\u001B[0m\r\n",
      "\u001B[1m[\u001B[0m\u001B[34;49mnotice\u001B[0m\u001B[1;39;49m]\u001B[0m\u001B[39;49m To update, run: \u001B[0m\u001B[32;49mpip install --upgrade pip\u001B[0m\r\n",
      "Collecting ipywidgets\r\n",
      "  Obtaining dependency information for ipywidgets from https://files.pythonhosted.org/packages/22/2d/9c0b76f2f9cc0ebede1b9371b6f317243028ed60b90705863d493bae622e/ipywidgets-8.1.5-py3-none-any.whl.metadata\r\n",
      "  Downloading ipywidgets-8.1.5-py3-none-any.whl.metadata (2.3 kB)\r\n",
      "Requirement already satisfied: comm>=0.1.3 in /Users/sean/PycharmProjects/Underwater-Image-Restoration/.venv/lib/python3.12/site-packages (from ipywidgets) (0.2.2)\r\n",
      "Requirement already satisfied: ipython>=6.1.0 in /Users/sean/PycharmProjects/Underwater-Image-Restoration/.venv/lib/python3.12/site-packages (from ipywidgets) (9.0.1)\r\n",
      "Requirement already satisfied: traitlets>=4.3.1 in /Users/sean/PycharmProjects/Underwater-Image-Restoration/.venv/lib/python3.12/site-packages (from ipywidgets) (5.14.3)\r\n",
      "Collecting widgetsnbextension~=4.0.12 (from ipywidgets)\r\n",
      "  Obtaining dependency information for widgetsnbextension~=4.0.12 from https://files.pythonhosted.org/packages/21/02/88b65cc394961a60c43c70517066b6b679738caf78506a5da7b88ffcb643/widgetsnbextension-4.0.13-py3-none-any.whl.metadata\r\n",
      "  Downloading widgetsnbextension-4.0.13-py3-none-any.whl.metadata (1.6 kB)\r\n",
      "Collecting jupyterlab-widgets~=3.0.12 (from ipywidgets)\r\n",
      "  Obtaining dependency information for jupyterlab-widgets~=3.0.12 from https://files.pythonhosted.org/packages/a9/93/858e87edc634d628e5d752ba944c2833133a28fa87bb093e6832ced36a3e/jupyterlab_widgets-3.0.13-py3-none-any.whl.metadata\r\n",
      "  Downloading jupyterlab_widgets-3.0.13-py3-none-any.whl.metadata (4.1 kB)\r\n",
      "Requirement already satisfied: decorator in /Users/sean/PycharmProjects/Underwater-Image-Restoration/.venv/lib/python3.12/site-packages (from ipython>=6.1.0->ipywidgets) (5.2.1)\r\n",
      "Requirement already satisfied: ipython-pygments-lexers in /Users/sean/PycharmProjects/Underwater-Image-Restoration/.venv/lib/python3.12/site-packages (from ipython>=6.1.0->ipywidgets) (1.1.1)\r\n",
      "Requirement already satisfied: jedi>=0.16 in /Users/sean/PycharmProjects/Underwater-Image-Restoration/.venv/lib/python3.12/site-packages (from ipython>=6.1.0->ipywidgets) (0.19.2)\r\n",
      "Requirement already satisfied: matplotlib-inline in /Users/sean/PycharmProjects/Underwater-Image-Restoration/.venv/lib/python3.12/site-packages (from ipython>=6.1.0->ipywidgets) (0.1.7)\r\n",
      "Requirement already satisfied: pexpect>4.3 in /Users/sean/PycharmProjects/Underwater-Image-Restoration/.venv/lib/python3.12/site-packages (from ipython>=6.1.0->ipywidgets) (4.9.0)\r\n",
      "Requirement already satisfied: prompt_toolkit<3.1.0,>=3.0.41 in /Users/sean/PycharmProjects/Underwater-Image-Restoration/.venv/lib/python3.12/site-packages (from ipython>=6.1.0->ipywidgets) (3.0.50)\r\n",
      "Requirement already satisfied: pygments>=2.4.0 in /Users/sean/PycharmProjects/Underwater-Image-Restoration/.venv/lib/python3.12/site-packages (from ipython>=6.1.0->ipywidgets) (2.19.1)\r\n",
      "Requirement already satisfied: stack_data in /Users/sean/PycharmProjects/Underwater-Image-Restoration/.venv/lib/python3.12/site-packages (from ipython>=6.1.0->ipywidgets) (0.6.3)\r\n",
      "Requirement already satisfied: parso<0.9.0,>=0.8.4 in /Users/sean/PycharmProjects/Underwater-Image-Restoration/.venv/lib/python3.12/site-packages (from jedi>=0.16->ipython>=6.1.0->ipywidgets) (0.8.4)\r\n",
      "Requirement already satisfied: ptyprocess>=0.5 in /Users/sean/PycharmProjects/Underwater-Image-Restoration/.venv/lib/python3.12/site-packages (from pexpect>4.3->ipython>=6.1.0->ipywidgets) (0.7.0)\r\n",
      "Requirement already satisfied: wcwidth in /Users/sean/PycharmProjects/Underwater-Image-Restoration/.venv/lib/python3.12/site-packages (from prompt_toolkit<3.1.0,>=3.0.41->ipython>=6.1.0->ipywidgets) (0.2.13)\r\n",
      "Requirement already satisfied: executing>=1.2.0 in /Users/sean/PycharmProjects/Underwater-Image-Restoration/.venv/lib/python3.12/site-packages (from stack_data->ipython>=6.1.0->ipywidgets) (2.2.0)\r\n",
      "Requirement already satisfied: asttokens>=2.1.0 in /Users/sean/PycharmProjects/Underwater-Image-Restoration/.venv/lib/python3.12/site-packages (from stack_data->ipython>=6.1.0->ipywidgets) (3.0.0)\r\n",
      "Requirement already satisfied: pure-eval in /Users/sean/PycharmProjects/Underwater-Image-Restoration/.venv/lib/python3.12/site-packages (from stack_data->ipython>=6.1.0->ipywidgets) (0.2.3)\r\n",
      "Downloading ipywidgets-8.1.5-py3-none-any.whl (139 kB)\r\n",
      "\u001B[2K   \u001B[90m━━━━━━━━━━━━━━━━━━━━━━━━━━━━━━━━━━━━━━━━\u001B[0m \u001B[32m139.8/139.8 kB\u001B[0m \u001B[31m4.3 MB/s\u001B[0m eta \u001B[36m0:00:00\u001B[0ma \u001B[36m0:00:01\u001B[0m\r\n",
      "\u001B[?25hDownloading jupyterlab_widgets-3.0.13-py3-none-any.whl (214 kB)\r\n",
      "\u001B[2K   \u001B[90m━━━━━━━━━━━━━━━━━━━━━━━━━━━━━━━━━━━━━━━━\u001B[0m \u001B[32m214.4/214.4 kB\u001B[0m \u001B[31m7.0 MB/s\u001B[0m eta \u001B[36m0:00:00\u001B[0m\r\n",
      "\u001B[?25hDownloading widgetsnbextension-4.0.13-py3-none-any.whl (2.3 MB)\r\n",
      "\u001B[2K   \u001B[90m━━━━━━━━━━━━━━━━━━━━━━━━━━━━━━━━━━━━━━━━\u001B[0m \u001B[32m2.3/2.3 MB\u001B[0m \u001B[31m11.3 MB/s\u001B[0m eta \u001B[36m0:00:00\u001B[0ma \u001B[36m0:00:01\u001B[0m\r\n",
      "\u001B[?25hInstalling collected packages: widgetsnbextension, jupyterlab-widgets, ipywidgets\r\n",
      "Successfully installed ipywidgets-8.1.5 jupyterlab-widgets-3.0.13 widgetsnbextension-4.0.13\r\n",
      "\r\n",
      "\u001B[1m[\u001B[0m\u001B[34;49mnotice\u001B[0m\u001B[1;39;49m]\u001B[0m\u001B[39;49m A new release of pip is available: \u001B[0m\u001B[31;49m23.2.1\u001B[0m\u001B[39;49m -> \u001B[0m\u001B[32;49m25.0.1\u001B[0m\r\n",
      "\u001B[1m[\u001B[0m\u001B[34;49mnotice\u001B[0m\u001B[1;39;49m]\u001B[0m\u001B[39;49m To update, run: \u001B[0m\u001B[32;49mpip install --upgrade pip\u001B[0m\r\n"
     ]
    }
   ],
   "execution_count": 3
  }
 ],
 "metadata": {
  "kernelspec": {
   "display_name": "Python 3",
   "language": "python",
   "name": "python3"
  },
  "language_info": {
   "codemirror_mode": {
    "name": "ipython",
    "version": 2
   },
   "file_extension": ".py",
   "mimetype": "text/x-python",
   "name": "python",
   "nbconvert_exporter": "python",
   "pygments_lexer": "ipython2",
   "version": "2.7.6"
  }
 },
 "nbformat": 4,
 "nbformat_minor": 5
}
