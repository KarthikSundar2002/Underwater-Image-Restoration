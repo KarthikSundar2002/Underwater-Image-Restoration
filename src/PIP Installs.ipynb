{
 "cells": [
  {
   "cell_type": "code",
   "execution_count": null,
   "id": "initial_id",
   "metadata": {
    "ExecuteTime": {
     "end_time": "2025-03-08T12:25:45.475779Z",
     "start_time": "2025-03-08T12:25:41.383761Z"
    },
    "collapsed": true
   },
   "outputs": [],
   "source": [
    "!pip install kaggle\n",
    "!pip install kagglehub\n",
    "!pip install ipywidgets\n",
    "!pip install opencv-python\n",
    "!pip install -U scikit-image\n",
    "!pip install torch\n",
    "!pip install torchvision\n",
    "!pip install einops\n",
    "!pip install timm\n",
    "!pip install wandb\n",
    "!pip install dotenv"
   ]
  }
 ],
 "metadata": {
  "kernelspec": {
   "display_name": ".venv",
   "language": "python",
   "name": "python3"
  },
  "language_info": {
   "codemirror_mode": {
    "name": "ipython",
    "version": 2
   },
   "file_extension": ".py",
   "mimetype": "text/x-python",
   "name": "python",
   "nbconvert_exporter": "python",
   "pygments_lexer": "ipython2",
   "version": "3.10.16"
  }
 },
 "nbformat": 4,
 "nbformat_minor": 5
}
