{
 "cells": [
  {
   "cell_type": "code",
   "id": "initial_id",
   "metadata": {
    "collapsed": true
   },
   "source": [
    "#downloads the dataset from kaggle and moves it to the data directory\n",
    "import src.DataManipulation.DownloaderKaggle as dk\n",
    "import importlib\n",
    "importlib.reload(dk)\n",
    "\n",
    "downloaderReference = dk.DownloaderKaggle(\"larjeck/uieb-dataset-reference\")\n",
    "downloadedReferencePath = downloaderReference.downloadFiles()\n",
    "\n",
    "downloaderRaw = dk.DownloaderKaggle(\"larjeck/uieb-dataset-raw\")\n",
    "downloadedRawPath = downloaderRaw.downloadFiles()\n",
    "\n",
    "print(downloadedRawPath)\n",
    "print(downloadedReferencePath)"
   ],
   "outputs": [],
   "execution_count": null
  },
  {
   "metadata": {
    "ExecuteTime": {
     "end_time": "2025-03-06T12:53:50.813012Z",
     "start_time": "2025-03-06T12:53:36.114611Z"
    }
   },
   "cell_type": "code",
   "source": [
    "import src.DataManipulation.ImageManipulator as im\n",
    "import importlib\n",
    "import pathlib as pl\n",
    "importlib.reload(im)\n",
    "\n",
    "path = pl.Path(downloadedReferencePath)\n",
    "outputDirectory = downloadedReferencePath.replace(path.parts[3], \"manipulated\")\n",
    "\n",
    "imageManipulator = im.ImageManipulator(downloadedReferencePath, outputDirectory)\n",
    "imageManipulator.resizeImages(256, 256)\n",
    "imageManipulator.saveToDisk()"
   ],
   "id": "2efdc1eac6bbd486",
   "outputs": [],
   "execution_count": 40
  }
 ],
 "metadata": {
  "kernelspec": {
   "display_name": "Python 3",
   "language": "python",
   "name": "python3"
  },
  "language_info": {
   "codemirror_mode": {
    "name": "ipython",
    "version": 2
   },
   "file_extension": ".py",
   "mimetype": "text/x-python",
   "name": "python",
   "nbconvert_exporter": "python",
   "pygments_lexer": "ipython2",
   "version": "2.7.6"
  }
 },
 "nbformat": 4,
 "nbformat_minor": 5
}
