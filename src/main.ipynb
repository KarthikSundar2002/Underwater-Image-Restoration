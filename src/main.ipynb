{
 "cells": [
  {
   "metadata": {
    "ExecuteTime": {
     "end_time": "2025-03-10T16:13:04.952046Z",
     "start_time": "2025-03-10T16:13:04.928087Z"
    }
   },
   "cell_type": "code",
   "source": [
    "#the main block. This will go from start to finish when all sections are implemented.\n",
    "import src.DataManipulation.DataManager as dm\n",
    "import importlib\n",
    "\n",
    "importlib.reload(dm)\n",
    "\n",
    "dataset_path = \"../data/kaggle/larjeck\"\n",
    "\n",
    "\n",
    "\n",
    "#manager.download()\n",
    "#following line to be used when data is already downloaded. Swap it out for download() when you need to get the data TODO: implement a check here to avoid doing this manually\n",
    "manager = dm.DataManager()\n",
    "manager.setDownloadedLocations(\n",
    "    rawDataDirectory=f\"{dataset_path}/uieb-dataset-raw/raw-890\",\n",
    "    remasteredDataDirectory=f\"{dataset_path}/uieb-dataset-reference/reference-890\"\n",
    ")\n",
    "manager.preProcess()\n",
    "# manager.dataAugment()  Xander/ uncomment to do data Augment\n",
    "#manager.split()\n",
    "#manager.train()\n",
    "#manager.evaluate()\n"
   ],
   "id": "f14235a5986a4be4",
   "outputs": [
    {
     "name": "stdout",
     "output_type": "stream",
     "text": [
      "Resized images in ../data/kaggle/larjeck/uieb-dataset-raw/raw-890\n",
      "Resized images in ../data/kaggle/larjeck/uieb-dataset-reference/reference-890\n"
     ]
    }
   ],
   "execution_count": 12
  },
  {
   "metadata": {
    "ExecuteTime": {
     "end_time": "2025-03-14T11:52:47.195081Z",
     "start_time": "2025-03-14T11:52:47.191825Z"
    }
   },
   "cell_type": "code",
   "source": [
    "#Ogi's Section\n",
    "from src.DataManipulation.DataManager import get_dataloaders\n",
    "\n",
    "# Set the dataset path (adjust the path to your project structure)\n",
    "dataset_path = \"../data/kaggle/larjeck\"\n",
    "\n",
    "# Use the correct subdirectories for the raw and reference images\n",
    "raw_dir = f\"{dataset_path}/uieb-dataset-raw/raw-890\"\n",
    "ref_dir = f\"{dataset_path}/uieb-dataset-reference/reference-890\"\n",
    "\n",
    "# Get the DataLoaders (train and test)\n",
    "train_loader, test_loader = get_dataloaders(raw_dir, ref_dir)\n",
    "\n",
    "# Test the DataLoader by printing one batch's shapes\n",
    "for raw, ref in train_loader:\n",
    "    print(\"Raw image batch shape:\", raw.shape)\n",
    "    print(\"Reference image batch shape:\", ref.shape)\n",
    "    break"
   ],
   "id": "2a4b5feae695101d",
   "outputs": [],
   "execution_count": 1
  },
  {
   "metadata": {},
   "cell_type": "code",
   "outputs": [],
   "execution_count": null,
   "source": [
    "#Xander Section\n",
    "\n"
   ],
   "id": "aea4610fe411229f"
  }
 ],
 "metadata": {
  "kernelspec": {
   "display_name": "Python 3",
   "language": "python",
   "name": "python3"
  },
  "language_info": {
   "codemirror_mode": {
    "name": "ipython",
    "version": 2
   },
   "file_extension": ".py",
   "mimetype": "text/x-python",
   "name": "python",
   "nbconvert_exporter": "python",
   "pygments_lexer": "ipython2",
   "version": "2.7.6"
  }
 },
 "nbformat": 4,
 "nbformat_minor": 5
}
