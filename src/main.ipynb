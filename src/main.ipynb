{
 "cells": [
  {
   "cell_type": "code",
   "id": "initial_id",
   "metadata": {
    "collapsed": true
   },
   "source": [
    "#downloads the dataset from kaggle and moves it to the data directory\n",
    "import src.DataManipulation.DownloaderKaggle as dk\n",
    "import importlib\n",
    "importlib.reload(dk)\n",
    "\n",
    "downloaderReference = dk.DownloaderKaggle(\"larjeck/uieb-dataset-reference\")\n",
    "downloadedReferencePath = downloaderReference.downloadFiles()\n",
    "\n",
    "downloaderRaw = dk.DownloaderKaggle(\"larjeck/uieb-dataset-raw\")\n",
    "downloadedRawPath = downloaderRaw.downloadFiles()\n",
    "\n",
    "\n",
    "print(downloadedRawPath)\n",
    "print(downloadedReferencePath)"
   ],
   "outputs": [],
   "execution_count": null
  },
  {
   "metadata": {},
   "cell_type": "code",
   "source": [
    "import src.DataManipulation.ImageManipulator as im\n",
    "import importlib\n",
    "importlib.reload(im)\n",
    "\n",
    "with im.ImageManipulator(downloadedReferencePath, \"../data/kaggle/resized\") as imageManipulator\n",
    "    imageManipulator.resizeImages(256, 256)\n",
    "    imageManipulator.saveToDisk()\n",
    "\n"
   ],
   "id": "2efdc1eac6bbd486",
   "outputs": [],
   "execution_count": null
  }
 ],
 "metadata": {
  "kernelspec": {
   "display_name": "Python 3",
   "language": "python",
   "name": "python3"
  },
  "language_info": {
   "codemirror_mode": {
    "name": "ipython",
    "version": 2
   },
   "file_extension": ".py",
   "mimetype": "text/x-python",
   "name": "python",
   "nbconvert_exporter": "python",
   "pygments_lexer": "ipython2",
   "version": "2.7.6"
  }
 },
 "nbformat": 4,
 "nbformat_minor": 5
}
