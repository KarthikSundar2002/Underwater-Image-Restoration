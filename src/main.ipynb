{
 "cells": [
  {
   "cell_type": "code",
   "id": "initial_id",
   "metadata": {
    "collapsed": true
   },
   "source": [
    "#downloads the dataset from kaggle and moves it to the data directory\n",
    "import src.DataManipulation.DownloaderKaggle as dk\n",
    "import importlib\n",
    "importlib.reload(dk)\n",
    "\n",
    "downloader = dk.DownloaderKaggle(\"larjeck/uieb-dataset-reference\")\n",
    "downloadedPath = downloader.downloadFiles()\n",
    "\n",
    "print(downloadedPath)"
   ],
   "outputs": [],
   "execution_count": null
  }
 ],
 "metadata": {
  "kernelspec": {
   "display_name": "Python 3",
   "language": "python",
   "name": "python3"
  },
  "language_info": {
   "codemirror_mode": {
    "name": "ipython",
    "version": 2
   },
   "file_extension": ".py",
   "mimetype": "text/x-python",
   "name": "python",
   "nbconvert_exporter": "python",
   "pygments_lexer": "ipython2",
   "version": "2.7.6"
  }
 },
 "nbformat": 4,
 "nbformat_minor": 5
}
