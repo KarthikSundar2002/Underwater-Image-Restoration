{
 "cells": [
  {
   "metadata": {
    "collapsed": true
   },
   "cell_type": "code",
   "outputs": [],
   "execution_count": null,
   "source": [
    "#downloads the dataset from kaggle and moves it to the data directory\n",
    "#only need to run this once!\n",
    "import src.DataManipulation.DownloaderKaggle as dk\n",
    "import importlib\n",
    "importlib.reload(dk)\n",
    "\n",
    "downloaderReference = dk.DownloaderKaggle(\"larjeck/uieb-dataset-reference\")\n",
    "downloadedReferencePath = downloaderReference.downloadFiles()\n",
    "\n",
    "downloaderRaw = dk.DownloaderKaggle(\"larjeck/uieb-dataset-raw\")\n",
    "downloadedRawPath = downloaderRaw.downloadFiles()\n",
    "\n",
    "print(downloadedRawPath)\n",
    "print(downloadedReferencePath)"
   ],
   "id": "initial_id"
  },
  {
   "metadata": {
    "ExecuteTime": {
     "end_time": "2025-03-06T13:43:23.894418Z",
     "start_time": "2025-03-06T13:42:54.970227Z"
    }
   },
   "cell_type": "code",
   "source": [
    "#the main block. This will go from start to finish when all sections are implemented.\n",
    "import src.DataManipulation.DataManager as dm\n",
    "importlib.reload(dm)\n",
    "\n",
    "manager = dm.DataManager()\n",
    "\n",
    "#manager.download()\n",
    "#following line to be used when data is already downloaded. Swap it out for download() when you need to get the data TODO: implement a check here to avoid doing this manually\n",
    "manager.setDownloadedLocations(downloadedRawPath, downloadedReferencePath)\n",
    "manager.preProcess()\n",
    "#manager.split()\n",
    "#manager.train()\n",
    "#manager.evaluate()\n"
   ],
   "id": "f0a8c31622fcf0ce",
   "outputs": [],
   "execution_count": 53
  }
 ],
 "metadata": {
  "kernelspec": {
   "display_name": "Python 3",
   "language": "python",
   "name": "python3"
  },
  "language_info": {
   "codemirror_mode": {
    "name": "ipython",
    "version": 2
   },
   "file_extension": ".py",
   "mimetype": "text/x-python",
   "name": "python",
   "nbconvert_exporter": "python",
   "pygments_lexer": "ipython2",
   "version": "2.7.6"
  }
 },
 "nbformat": 4,
 "nbformat_minor": 5
}
