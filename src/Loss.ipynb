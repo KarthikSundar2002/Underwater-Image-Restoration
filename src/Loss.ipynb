{
 "cells": [
  {
   "cell_type": "code",
   "id": "initial_id",
   "metadata": {
    "collapsed": true,
    "ExecuteTime": {
     "end_time": "2025-05-03T20:06:02.848342Z",
     "start_time": "2025-05-03T20:06:00.740450Z"
    }
   },
   "source": [
    "from PIL import Image\n",
    "from torchvision import transforms\n",
    "\n",
    "from src.Losses.losses import Gradient_Loss,CharbonnierLoss,MS_SSIM,VGGPerceptualLoss,FFL\n",
    "\n",
    "inp_image_path = \"../data/uw_data/uw_data/manipulated/1imagea/6_img_.png\"\n",
    "\n",
    "image = Image.open(inp_image_path)\n",
    "\n",
    "transform = transforms.Compose([transforms.Resize((1024, 1024)), transforms.ToTensor(),transforms.Normalize((0.5, 0.5, 0.5), (0.5, 0.5, 0.5))])\n",
    "\n",
    "inp = transform(image)\n",
    "inp = inp.unsqueeze_(0)\n",
    "\n",
    "charbloss = CharbonnierLoss()\n",
    "mse = MS_SSIM(win_size=11, win_sigma=1.5, data_range=1, size_average=True, channel=3)\n",
    "vggloss = VGGPerceptualLoss()\n",
    "gradloss = Gradient_Loss()\n",
    "ffl = FFL()\n",
    "\n",
    "print(charbloss(inp,inp))\n",
    "print(1 - mse(inp,inp))\n",
    "print(vggloss(inp,inp))\n",
    "print(gradloss(inp,inp))\n",
    "print(ffl(inp,inp))\n"
   ],
   "outputs": [
    {
     "name": "stdout",
     "output_type": "stream",
     "text": [
      "tensor(0.0010)\n",
      "tensor(0.)\n",
      "tensor(0.)\n",
      "tensor(0.)\n",
      "tensor(0.)\n"
     ]
    }
   ],
   "execution_count": 7
  }
 ],
 "metadata": {
  "kernelspec": {
   "display_name": "Python 3",
   "language": "python",
   "name": "python3"
  },
  "language_info": {
   "codemirror_mode": {
    "name": "ipython",
    "version": 2
   },
   "file_extension": ".py",
   "mimetype": "text/x-python",
   "name": "python",
   "nbconvert_exporter": "python",
   "pygments_lexer": "ipython2",
   "version": "2.7.6"
  }
 },
 "nbformat": 4,
 "nbformat_minor": 5
}
