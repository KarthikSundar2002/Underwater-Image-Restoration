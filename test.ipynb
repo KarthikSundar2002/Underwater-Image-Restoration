{
 "cells": [
  {
   "cell_type": "code",
   "id": "initial_id",
   "metadata": {
    "collapsed": true,
    "ExecuteTime": {
     "end_time": "2025-04-14T18:47:35.957153Z",
     "start_time": "2025-04-14T18:47:31.992984Z"
    }
   },
   "source": [
    "import matplotlib.pyplot\n",
    "\n",
    "from src.model.model import MyModel\n",
    "from src.Models.SpectralTransformer import SpectralTransformer\n",
    "from PIL import Image\n",
    "from torchvision import transforms\n",
    "from matplotlib import pyplot as plt\n",
    "import numpy as np\n",
    "import torch\n",
    "\n",
    "from src.utils.Visualiser import ProcessImageUsingModel\n",
    "\n",
    "model = MyModel()\n",
    "model.to('cuda')\n",
    "# img = Image.open('6.png')\n",
    "\n",
    "# transform = transforms.Compose([transforms.Resize((256, 256)), transforms.ToTensor()])\n",
    "# inp = transform(img)\n",
    "# inp = inp.unsqueeze(0)\n",
    "# inp = inp.to('cuda')\n",
    "# output = model(inp)\n",
    "fileToTest = \"../data/kaggle/manipulated/uieb-dataset-raw/6_img_.png\"\n",
    "with torch.no_grad():\n",
    "    ProcessImageUsingModel('cuda', fileToTest, model, f\"Model Output without Training\")\n",
    "# result_cpu = output.detach().cpu()\n",
    "# if result_cpu.dim() == 4 and result_cpu.shape[0] == 1:\n",
    "#     result_squeezed = result_cpu.squeeze(0)  # Shape: [C, H, W]\n",
    "# else:\n",
    "#     result_squeezed = result_cpu  # Keep as is if not 4D with batch=1\n",
    "#     # 3. Permute dimensions: CHW -> HWC\n",
    "# if result_squeezed.dim() == 3:  # Only permute if it has C, H, W dims\n",
    "#     result_hwc = result_squeezed.permute(1, 2, 0)  # Shape: [H, W, C]\n",
    "# else:\n",
    "#     result_hwc = result_squeezed  # Keep as is if not 3D (e.g., grayscale output)\n",
    "#     # 4. Convert to NumPy array\n",
    "# result_numpy = result_hwc.numpy()\n",
    "# result_numpy = np.clip(result_numpy, 0, 1)\n",
    "# result_numpy = (result_numpy * 255).astype(np.uint8)\n",
    "#\n",
    "# plt.imshow(result_numpy, interpolation='nearest',cmap = plt.cm.Spectral)\n"
   ],
   "outputs": [
    {
     "name": "stderr",
     "output_type": "stream",
     "text": [
      "C:\\Users\\givew\\PycharmProjects\\Underwater-Image-Restoration\\.venv\\lib\\site-packages\\tqdm\\auto.py:21: TqdmWarning: IProgress not found. Please update jupyter and ipywidgets. See https://ipywidgets.readthedocs.io/en/stable/user_install.html\n",
      "  from .autonotebook import tqdm as notebook_tqdm\n",
      "C:\\Users\\givew\\PycharmProjects\\Underwater-Image-Restoration\\.venv\\lib\\site-packages\\torch\\functional.py:539: UserWarning: torch.meshgrid: in an upcoming release, it will be required to pass the indexing argument. (Triggered internally at C:\\actions-runner\\_work\\pytorch\\pytorch\\pytorch\\aten\\src\\ATen\\native\\TensorShape.cpp:3638.)\n",
      "  return _VF.meshgrid(tensors, **kwargs)  # type: ignore[attr-defined]\n"
     ]
    },
    {
     "name": "stdout",
     "output_type": "stream",
     "text": [
      "torch.Size([1, 3, 256, 256])\n",
      "(256, 256, 3)\n",
      "(256, 256, 3)\n",
      "(256, 256)\n",
      "<PIL.Image.Image image mode=RGB size=256x256 at 0x1E6AF526050>\n"
     ]
    }
   ],
   "execution_count": 1
  },
  {
   "metadata": {
    "ExecuteTime": {
     "end_time": "2025-04-14T19:03:15.079561Z",
     "start_time": "2025-04-14T19:03:15.052548Z"
    }
   },
   "cell_type": "code",
   "source": [
    "img = Image.open(\"Images/Model Output without Training.png\")\n",
    "img_2 = Image.open(\"Images/Epoch 18_ Best False.png\")\n",
    "inp = Image.open(fileToTest)\n",
    "\n",
    "img_np = np.array(img)\n",
    "img2_np = np.array(img_2)\n",
    "inp_np = np.array(inp)\n",
    "\n",
    "diff_inp = inp_np - img2_np\n",
    "out = Image.fromarray(diff_inp).convert('RGB')\n",
    "res = img2_np - img_np\n",
    "res = Image.fromarray(res).convert('RGB')\n",
    "res.show()\n",
    "out.show()"
   ],
   "id": "b92ffd939678275b",
   "outputs": [],
   "execution_count": 4
  }
 ],
 "metadata": {
  "kernelspec": {
   "display_name": "Python 3",
   "language": "python",
   "name": "python3"
  },
  "language_info": {
   "codemirror_mode": {
    "name": "ipython",
    "version": 2
   },
   "file_extension": ".py",
   "mimetype": "text/x-python",
   "name": "python",
   "nbconvert_exporter": "python",
   "pygments_lexer": "ipython2",
   "version": "2.7.6"
  }
 },
 "nbformat": 4,
 "nbformat_minor": 5
}
